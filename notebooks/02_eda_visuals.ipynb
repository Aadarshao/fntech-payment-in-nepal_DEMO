{
 "cells": [
  {
   "cell_type": "markdown",
   "id": "04e4d39a",
   "metadata": {},
   "source": [
    "# 02 - EDA Visuals"
   ]
  },
  {
   "cell_type": "code",
   "execution_count": null,
   "id": "8764e226",
   "metadata": {},
   "outputs": [],
   "source": [
    "## Time series and moving averages\n",
    "from src.data_processing import daily_summary\n",
    "\n",
    "daily = daily_summary(df)\n",
    "daily['ma7'] = daily['total_amount'].rolling(7).mean()\n",
    "\n",
    "daily[['date','total_amount','ma7']].set_index('date').plot(figsize=(12,4))"
   ]
  },
  {
   "cell_type": "markdown",
   "id": "74311ecc",
   "metadata": {},
   "source": [
    "## Hour vs weekday heatmap\n",
    "import seaborn as sns\n",
    "pivot = df.groupby(['weekday','hour']).size().reset_index(name='count').pivot(index='weekday', columns='hour', values='count').fillna(0)\n",
    "import matplotlib.pyplot as plt\n",
    "plt.figure(figsize=(12,4))\n",
    "sns.heatmap(pivot, cmap='Blues')\n",
    "plt.title('Transactions heatmap')\n",
    "plt.show()"
   ]
  },
  {
   "cell_type": "code",
   "execution_count": null,
   "id": "59ec2ebd",
   "metadata": {},
   "outputs": [],
   "source": [
    "## Top users by volume\n",
    "print(df.groupby('user_id')['amount'].sum().sort_values(ascending=False).head(20))"
   ]
  }
 ],
 "metadata": {},
 "nbformat": 4,
 "nbformat_minor": 5
}
