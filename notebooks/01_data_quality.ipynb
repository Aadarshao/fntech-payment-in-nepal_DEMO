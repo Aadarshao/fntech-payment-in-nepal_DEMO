{
 "cells": [
  {
   "cell_type": "markdown",
   "id": "2976cfc1",
   "metadata": {},
   "source": [
    "# 01 - Data Quality"
   ]
  },
  {
   "cell_type": "code",
   "execution_count": null,
   "id": "f64762d2",
   "metadata": {},
   "outputs": [],
   "source": [
    "## Load and inspect data\n",
    "from src.data_processing import load_data, clean_basic\n",
    "\n",
    "df = load_data('data/Fintech-data-for-nepal.csv')\n",
    "df = clean_basic(df)\n",
    "\n",
    "df.head()"
   ]
  },
  {
   "cell_type": "markdown",
   "id": "2cd5e004",
   "metadata": {},
   "source": [
    "## Basic info and nulls\n",
    "print(df.shape)\n",
    "print(df.info())\n",
    "print(df.isna().sum())"
   ]
  },
  {
   "cell_type": "code",
   "execution_count": null,
   "id": "6cec39a8",
   "metadata": {},
   "outputs": [],
   "source": [
    "## Amount distribution\n",
    "import matplotlib.pyplot as plt\n",
    "plt.hist(df['amount'], bins=80)\n",
    "plt.yscale('log')\n",
    "plt.title('Amount distribution (log y)')\n",
    "plt.show()"
   ]
  },
  {
   "cell_type": "markdown",
   "id": "99079e89",
   "metadata": {},
   "source": [
    "## Channel & Category breakdown\n",
    "print(df['channel'].value_counts())\n",
    "print(df['category'].value_counts())"
   ]
  }
 ],
 "metadata": {},
 "nbformat": 4,
 "nbformat_minor": 5
}
