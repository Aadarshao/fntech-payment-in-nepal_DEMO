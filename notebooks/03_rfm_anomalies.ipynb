{
 "cells": [
  {
   "cell_type": "markdown",
   "id": "2bfd1f8d",
   "metadata": {},
   "source": [
    "# 03 - RFM & Anomalies"
   ]
  },
  {
   "cell_type": "code",
   "execution_count": null,
   "id": "955ab663",
   "metadata": {},
   "outputs": [],
   "source": [
    "## RFM calculation\n",
    "from src.features import calc_rfm, add_rfm_scores\n",
    "rfm = calc_rfm(df)\n",
    "rfm = add_rfm_scores(rfm)\n",
    "rfm.head()"
   ]
  },
  {
   "cell_type": "markdown",
   "id": "28e5c947",
   "metadata": {},
   "source": [
    "## IsolationForest anomalies\n",
    "from src.modeling import detect_transaction_anomalies\n",
    "df_anom = detect_transaction_anomalies(df)\n",
    "df_anom[df_anom['anomaly_iforest']].sort_values('amount', ascending=False).head(20)"
   ]
  }
 ],
 "metadata": {},
 "nbformat": 4,
 "nbformat_minor": 5
}
